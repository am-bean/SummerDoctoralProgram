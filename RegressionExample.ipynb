{
  "nbformat": 4,
  "nbformat_minor": 0,
  "metadata": {
    "colab": {
      "provenance": [],
      "authorship_tag": "ABX9TyNcWNlM5gZnPztsjTk9Dt/G",
      "include_colab_link": true
    },
    "kernelspec": {
      "name": "python3",
      "display_name": "Python 3"
    },
    "language_info": {
      "name": "python"
    }
  },
  "cells": [
    {
      "cell_type": "markdown",
      "metadata": {
        "id": "view-in-github",
        "colab_type": "text"
      },
      "source": [
        "<a href=\"https://colab.research.google.com/github/am-bean/SummerDoctoralProgram/blob/main/RegressionExample.ipynb\" target=\"_parent\"><img src=\"https://colab.research.google.com/assets/colab-badge.svg\" alt=\"Open In Colab\"/></a>"
      ]
    },
    {
      "cell_type": "markdown",
      "source": [
        "# Linear Regression Example\n"
      ],
      "metadata": {
        "id": "njtqxhLYvMKN"
      }
    },
    {
      "cell_type": "markdown",
      "source": [
        "This Jupyter Notebook is a very simple case study of linear regression applied to a social science research question. The idea we want to explore is as follows:"
      ],
      "metadata": {
        "id": "X6ce6dCuvVmf"
      }
    },
    {
      "cell_type": "markdown",
      "source": [
        "**RQ:** Does access to the internet lead to increased acceptance of women in government?"
      ],
      "metadata": {
        "id": "uRrCLauSvrC0"
      }
    },
    {
      "cell_type": "markdown",
      "source": [
        "To begin with, it is worth noting that this question is stated as a causal relationship. The methods we are using are NOT suitable for demonstrating causality. We are also not dealing with the huge number of possible confounding factors which may mediate this relationship. Doing so requires a great deal of care, and is out of the scope of this short tutorial."
      ],
      "metadata": {
        "id": "89D7YzRfwEp9"
      }
    },
    {
      "cell_type": "markdown",
      "source": [
        "## Getting Set Up\n"
      ],
      "metadata": {
        "id": "OvDgn9o7wmfb"
      }
    },
    {
      "cell_type": "markdown",
      "source": [
        "The first lines of any Python code will be imports. This allow Python to load the relevant packages (pieces of software) for what we want to do so that we can use the commands later.\n",
        "\n",
        "We are using pandas and numpy for manipulating data and performing numerical functions, statsmodels for statistics, and matplotlib for visualization. The os package is for interacting with the operating system, which we use to check if the data is available. The re package is for using regular expressions, a more powerful search and replace."
      ],
      "metadata": {
        "id": "VA3W0CVMwqeU"
      }
    },
    {
      "cell_type": "code",
      "execution_count": 89,
      "metadata": {
        "id": "oHCqnCdovGiQ"
      },
      "outputs": [],
      "source": [
        "%matplotlib inline\n",
        "import pandas as pd\n",
        "import numpy as np\n",
        "import statsmodels.api as sm\n",
        "import matplotlib.pyplot as plt\n",
        "import matplotlib.ticker as mtick\n",
        "import os.path as path\n",
        "import re"
      ]
    },
    {
      "cell_type": "markdown",
      "source": [
        "## Data Collection and Cleaning"
      ],
      "metadata": {
        "id": "hoYZVO6Z_D2M"
      }
    },
    {
      "cell_type": "markdown",
      "source": [
        "The first thing we need to do is find and download the data to analyze. Let's start with the % of women in governments around the world. The Inter-Parliamentary Union provides this data on their [website](https://data.ipu.org/women-ranking?month=1&year=2023). I have downloaded a copy and stored it on Github so that we can access it more easily. Here, we load the file into a dataframe, which is like an Excel workbook in Python."
      ],
      "metadata": {
        "id": "SLCinLjSyK82"
      }
    },
    {
      "cell_type": "code",
      "source": [
        "women_csv = 'chamber--current_women_percent.csv'\n",
        "if not path.exists(women_csv):\n",
        "    women_csv = 'https://raw.githubusercontent.com/am-bean/SummerDoctoralProgram/main/chamber--current_women_percent.csv'\n",
        "\n",
        "women_df = pd.read_csv(women_csv)\n",
        "\n"
      ],
      "metadata": {
        "id": "ZyM9FTeByvdc"
      },
      "execution_count": 20,
      "outputs": []
    },
    {
      "cell_type": "markdown",
      "source": [
        "We can look at a dataframe with df.head(), which shows the first five rows. This is a mess!"
      ],
      "metadata": {
        "id": "ghiXVn6h0dd6"
      }
    },
    {
      "cell_type": "code",
      "source": [
        "women_df.head()"
      ],
      "metadata": {
        "colab": {
          "base_uri": "https://localhost:8080/",
          "height": 206
        },
        "id": "4D2s6jUUzBDx",
        "outputId": "fe48ac17-e07c-4f9d-f7ce-862f385a76e4"
      },
      "execution_count": 21,
      "outputs": [
        {
          "output_type": "execute_result",
          "data": {
            "text/plain": [
              "  Source: Inter-Parliamentary Union Open Data Unnamed: 1  \\\n",
              "0                            Date: 2023-07-06        NaN   \n",
              "1              Ranking as of 1st January 2023        NaN   \n",
              "2                                         NaN        NaN   \n",
              "3                                        Rank    Country   \n",
              "4                                         NaN        NaN   \n",
              "\n",
              "              Unnamed: 2 Unnamed: 3 Unnamed: 4 Unnamed: 5     Unnamed: 6  \\\n",
              "0                    NaN        NaN        NaN        NaN            NaN   \n",
              "1                    NaN        NaN        NaN        NaN            NaN   \n",
              "2                    NaN        NaN        NaN        NaN            NaN   \n",
              "3  Lower or single House        NaN        NaN        NaN  Upper chamber   \n",
              "4              Elections     Seats*      Women        % W      Elections   \n",
              "\n",
              "  Unnamed: 7 Unnamed: 8 Unnamed: 9  \n",
              "0        NaN        NaN        NaN  \n",
              "1        NaN        NaN        NaN  \n",
              "2        NaN        NaN        NaN  \n",
              "3        NaN        NaN        NaN  \n",
              "4     Seats*      Women        % W  "
            ],
            "text/html": [
              "\n",
              "  <div id=\"df-e2cb1396-674e-4a54-8629-94af02758535\">\n",
              "    <div class=\"colab-df-container\">\n",
              "      <div>\n",
              "<style scoped>\n",
              "    .dataframe tbody tr th:only-of-type {\n",
              "        vertical-align: middle;\n",
              "    }\n",
              "\n",
              "    .dataframe tbody tr th {\n",
              "        vertical-align: top;\n",
              "    }\n",
              "\n",
              "    .dataframe thead th {\n",
              "        text-align: right;\n",
              "    }\n",
              "</style>\n",
              "<table border=\"1\" class=\"dataframe\">\n",
              "  <thead>\n",
              "    <tr style=\"text-align: right;\">\n",
              "      <th></th>\n",
              "      <th>Source: Inter-Parliamentary Union Open Data</th>\n",
              "      <th>Unnamed: 1</th>\n",
              "      <th>Unnamed: 2</th>\n",
              "      <th>Unnamed: 3</th>\n",
              "      <th>Unnamed: 4</th>\n",
              "      <th>Unnamed: 5</th>\n",
              "      <th>Unnamed: 6</th>\n",
              "      <th>Unnamed: 7</th>\n",
              "      <th>Unnamed: 8</th>\n",
              "      <th>Unnamed: 9</th>\n",
              "    </tr>\n",
              "  </thead>\n",
              "  <tbody>\n",
              "    <tr>\n",
              "      <th>0</th>\n",
              "      <td>Date: 2023-07-06</td>\n",
              "      <td>NaN</td>\n",
              "      <td>NaN</td>\n",
              "      <td>NaN</td>\n",
              "      <td>NaN</td>\n",
              "      <td>NaN</td>\n",
              "      <td>NaN</td>\n",
              "      <td>NaN</td>\n",
              "      <td>NaN</td>\n",
              "      <td>NaN</td>\n",
              "    </tr>\n",
              "    <tr>\n",
              "      <th>1</th>\n",
              "      <td>Ranking as of 1st January 2023</td>\n",
              "      <td>NaN</td>\n",
              "      <td>NaN</td>\n",
              "      <td>NaN</td>\n",
              "      <td>NaN</td>\n",
              "      <td>NaN</td>\n",
              "      <td>NaN</td>\n",
              "      <td>NaN</td>\n",
              "      <td>NaN</td>\n",
              "      <td>NaN</td>\n",
              "    </tr>\n",
              "    <tr>\n",
              "      <th>2</th>\n",
              "      <td>NaN</td>\n",
              "      <td>NaN</td>\n",
              "      <td>NaN</td>\n",
              "      <td>NaN</td>\n",
              "      <td>NaN</td>\n",
              "      <td>NaN</td>\n",
              "      <td>NaN</td>\n",
              "      <td>NaN</td>\n",
              "      <td>NaN</td>\n",
              "      <td>NaN</td>\n",
              "    </tr>\n",
              "    <tr>\n",
              "      <th>3</th>\n",
              "      <td>Rank</td>\n",
              "      <td>Country</td>\n",
              "      <td>Lower or single House</td>\n",
              "      <td>NaN</td>\n",
              "      <td>NaN</td>\n",
              "      <td>NaN</td>\n",
              "      <td>Upper chamber</td>\n",
              "      <td>NaN</td>\n",
              "      <td>NaN</td>\n",
              "      <td>NaN</td>\n",
              "    </tr>\n",
              "    <tr>\n",
              "      <th>4</th>\n",
              "      <td>NaN</td>\n",
              "      <td>NaN</td>\n",
              "      <td>Elections</td>\n",
              "      <td>Seats*</td>\n",
              "      <td>Women</td>\n",
              "      <td>% W</td>\n",
              "      <td>Elections</td>\n",
              "      <td>Seats*</td>\n",
              "      <td>Women</td>\n",
              "      <td>% W</td>\n",
              "    </tr>\n",
              "  </tbody>\n",
              "</table>\n",
              "</div>\n",
              "      <button class=\"colab-df-convert\" onclick=\"convertToInteractive('df-e2cb1396-674e-4a54-8629-94af02758535')\"\n",
              "              title=\"Convert this dataframe to an interactive table.\"\n",
              "              style=\"display:none;\">\n",
              "        \n",
              "  <svg xmlns=\"http://www.w3.org/2000/svg\" height=\"24px\"viewBox=\"0 0 24 24\"\n",
              "       width=\"24px\">\n",
              "    <path d=\"M0 0h24v24H0V0z\" fill=\"none\"/>\n",
              "    <path d=\"M18.56 5.44l.94 2.06.94-2.06 2.06-.94-2.06-.94-.94-2.06-.94 2.06-2.06.94zm-11 1L8.5 8.5l.94-2.06 2.06-.94-2.06-.94L8.5 2.5l-.94 2.06-2.06.94zm10 10l.94 2.06.94-2.06 2.06-.94-2.06-.94-.94-2.06-.94 2.06-2.06.94z\"/><path d=\"M17.41 7.96l-1.37-1.37c-.4-.4-.92-.59-1.43-.59-.52 0-1.04.2-1.43.59L10.3 9.45l-7.72 7.72c-.78.78-.78 2.05 0 2.83L4 21.41c.39.39.9.59 1.41.59.51 0 1.02-.2 1.41-.59l7.78-7.78 2.81-2.81c.8-.78.8-2.07 0-2.86zM5.41 20L4 18.59l7.72-7.72 1.47 1.35L5.41 20z\"/>\n",
              "  </svg>\n",
              "      </button>\n",
              "      \n",
              "  <style>\n",
              "    .colab-df-container {\n",
              "      display:flex;\n",
              "      flex-wrap:wrap;\n",
              "      gap: 12px;\n",
              "    }\n",
              "\n",
              "    .colab-df-convert {\n",
              "      background-color: #E8F0FE;\n",
              "      border: none;\n",
              "      border-radius: 50%;\n",
              "      cursor: pointer;\n",
              "      display: none;\n",
              "      fill: #1967D2;\n",
              "      height: 32px;\n",
              "      padding: 0 0 0 0;\n",
              "      width: 32px;\n",
              "    }\n",
              "\n",
              "    .colab-df-convert:hover {\n",
              "      background-color: #E2EBFA;\n",
              "      box-shadow: 0px 1px 2px rgba(60, 64, 67, 0.3), 0px 1px 3px 1px rgba(60, 64, 67, 0.15);\n",
              "      fill: #174EA6;\n",
              "    }\n",
              "\n",
              "    [theme=dark] .colab-df-convert {\n",
              "      background-color: #3B4455;\n",
              "      fill: #D2E3FC;\n",
              "    }\n",
              "\n",
              "    [theme=dark] .colab-df-convert:hover {\n",
              "      background-color: #434B5C;\n",
              "      box-shadow: 0px 1px 3px 1px rgba(0, 0, 0, 0.15);\n",
              "      filter: drop-shadow(0px 1px 2px rgba(0, 0, 0, 0.3));\n",
              "      fill: #FFFFFF;\n",
              "    }\n",
              "  </style>\n",
              "\n",
              "      <script>\n",
              "        const buttonEl =\n",
              "          document.querySelector('#df-e2cb1396-674e-4a54-8629-94af02758535 button.colab-df-convert');\n",
              "        buttonEl.style.display =\n",
              "          google.colab.kernel.accessAllowed ? 'block' : 'none';\n",
              "\n",
              "        async function convertToInteractive(key) {\n",
              "          const element = document.querySelector('#df-e2cb1396-674e-4a54-8629-94af02758535');\n",
              "          const dataTable =\n",
              "            await google.colab.kernel.invokeFunction('convertToInteractive',\n",
              "                                                     [key], {});\n",
              "          if (!dataTable) return;\n",
              "\n",
              "          const docLinkHtml = 'Like what you see? Visit the ' +\n",
              "            '<a target=\"_blank\" href=https://colab.research.google.com/notebooks/data_table.ipynb>data table notebook</a>'\n",
              "            + ' to learn more about interactive tables.';\n",
              "          element.innerHTML = '';\n",
              "          dataTable['output_type'] = 'display_data';\n",
              "          await google.colab.output.renderOutput(dataTable, element);\n",
              "          const docLink = document.createElement('div');\n",
              "          docLink.innerHTML = docLinkHtml;\n",
              "          element.appendChild(docLink);\n",
              "        }\n",
              "      </script>\n",
              "    </div>\n",
              "  </div>\n",
              "  "
            ]
          },
          "metadata": {},
          "execution_count": 21
        }
      ]
    },
    {
      "cell_type": "markdown",
      "source": [
        "It looks like the top rows of the csv file are header info that we don't want. Rows three and four are both labels, which makes it a bit harder as well. I have chosen to only load starting with row 4 and then fixing the labels after loading."
      ],
      "metadata": {
        "id": "J6lY1EWO0uT5"
      }
    },
    {
      "cell_type": "code",
      "source": [
        "women_df = pd.read_csv(women_csv, skiprows=5, header = 0, names = ['Rank', 'Country', 'Last Election', 'Lower House Seats',\n",
        "                                                         'Women in Lower House Seats', 'Lower House % Women',\n",
        "                                                         'Last Upper House Election',\n",
        "                                                         'Upper House Seats', 'Women in Upper House Seats',\n",
        "                                                         'Upper House % Women'])\n",
        "\n",
        "women_df.head()\n",
        "\n"
      ],
      "metadata": {
        "colab": {
          "base_uri": "https://localhost:8080/",
          "height": 285
        },
        "id": "9wVv5KSc1F00",
        "outputId": "ef76a4d2-8d68-4217-eba3-49fed82c45f2"
      },
      "execution_count": 98,
      "outputs": [
        {
          "output_type": "execute_result",
          "data": {
            "text/plain": [
              "  Rank      Country Last Election Lower House Seats  \\\n",
              "0    1       Rwanda       09.2018                80   \n",
              "1    2         Cuba       03.2018               586   \n",
              "2    3    Nicaragua       11.2021                91   \n",
              "3    4       Mexico       06.2021               500   \n",
              "4    “  New Zealand       10.2020               120   \n",
              "\n",
              "  Women in Lower House Seats Lower House % Women Last Upper House Election  \\\n",
              "0                         49                61.3                   09.2019   \n",
              "1                        313                53.4                         -   \n",
              "2                         47                51.7                         -   \n",
              "3                        250                  50                   07.2018   \n",
              "4                         60                  50                         -   \n",
              "\n",
              "  Upper House Seats Women in Upper House Seats Upper House % Women  \n",
              "0                26                          9                34.6  \n",
              "1                 -                          -                   -  \n",
              "2                 -                          -                   -  \n",
              "3               127                         64                50.4  \n",
              "4                 -                          -                   -  "
            ],
            "text/html": [
              "\n",
              "  <div id=\"df-4273098d-d941-4ab6-8d4c-04f0759a58d4\">\n",
              "    <div class=\"colab-df-container\">\n",
              "      <div>\n",
              "<style scoped>\n",
              "    .dataframe tbody tr th:only-of-type {\n",
              "        vertical-align: middle;\n",
              "    }\n",
              "\n",
              "    .dataframe tbody tr th {\n",
              "        vertical-align: top;\n",
              "    }\n",
              "\n",
              "    .dataframe thead th {\n",
              "        text-align: right;\n",
              "    }\n",
              "</style>\n",
              "<table border=\"1\" class=\"dataframe\">\n",
              "  <thead>\n",
              "    <tr style=\"text-align: right;\">\n",
              "      <th></th>\n",
              "      <th>Rank</th>\n",
              "      <th>Country</th>\n",
              "      <th>Last Election</th>\n",
              "      <th>Lower House Seats</th>\n",
              "      <th>Women in Lower House Seats</th>\n",
              "      <th>Lower House % Women</th>\n",
              "      <th>Last Upper House Election</th>\n",
              "      <th>Upper House Seats</th>\n",
              "      <th>Women in Upper House Seats</th>\n",
              "      <th>Upper House % Women</th>\n",
              "    </tr>\n",
              "  </thead>\n",
              "  <tbody>\n",
              "    <tr>\n",
              "      <th>0</th>\n",
              "      <td>1</td>\n",
              "      <td>Rwanda</td>\n",
              "      <td>09.2018</td>\n",
              "      <td>80</td>\n",
              "      <td>49</td>\n",
              "      <td>61.3</td>\n",
              "      <td>09.2019</td>\n",
              "      <td>26</td>\n",
              "      <td>9</td>\n",
              "      <td>34.6</td>\n",
              "    </tr>\n",
              "    <tr>\n",
              "      <th>1</th>\n",
              "      <td>2</td>\n",
              "      <td>Cuba</td>\n",
              "      <td>03.2018</td>\n",
              "      <td>586</td>\n",
              "      <td>313</td>\n",
              "      <td>53.4</td>\n",
              "      <td>-</td>\n",
              "      <td>-</td>\n",
              "      <td>-</td>\n",
              "      <td>-</td>\n",
              "    </tr>\n",
              "    <tr>\n",
              "      <th>2</th>\n",
              "      <td>3</td>\n",
              "      <td>Nicaragua</td>\n",
              "      <td>11.2021</td>\n",
              "      <td>91</td>\n",
              "      <td>47</td>\n",
              "      <td>51.7</td>\n",
              "      <td>-</td>\n",
              "      <td>-</td>\n",
              "      <td>-</td>\n",
              "      <td>-</td>\n",
              "    </tr>\n",
              "    <tr>\n",
              "      <th>3</th>\n",
              "      <td>4</td>\n",
              "      <td>Mexico</td>\n",
              "      <td>06.2021</td>\n",
              "      <td>500</td>\n",
              "      <td>250</td>\n",
              "      <td>50</td>\n",
              "      <td>07.2018</td>\n",
              "      <td>127</td>\n",
              "      <td>64</td>\n",
              "      <td>50.4</td>\n",
              "    </tr>\n",
              "    <tr>\n",
              "      <th>4</th>\n",
              "      <td>“</td>\n",
              "      <td>New Zealand</td>\n",
              "      <td>10.2020</td>\n",
              "      <td>120</td>\n",
              "      <td>60</td>\n",
              "      <td>50</td>\n",
              "      <td>-</td>\n",
              "      <td>-</td>\n",
              "      <td>-</td>\n",
              "      <td>-</td>\n",
              "    </tr>\n",
              "  </tbody>\n",
              "</table>\n",
              "</div>\n",
              "      <button class=\"colab-df-convert\" onclick=\"convertToInteractive('df-4273098d-d941-4ab6-8d4c-04f0759a58d4')\"\n",
              "              title=\"Convert this dataframe to an interactive table.\"\n",
              "              style=\"display:none;\">\n",
              "        \n",
              "  <svg xmlns=\"http://www.w3.org/2000/svg\" height=\"24px\"viewBox=\"0 0 24 24\"\n",
              "       width=\"24px\">\n",
              "    <path d=\"M0 0h24v24H0V0z\" fill=\"none\"/>\n",
              "    <path d=\"M18.56 5.44l.94 2.06.94-2.06 2.06-.94-2.06-.94-.94-2.06-.94 2.06-2.06.94zm-11 1L8.5 8.5l.94-2.06 2.06-.94-2.06-.94L8.5 2.5l-.94 2.06-2.06.94zm10 10l.94 2.06.94-2.06 2.06-.94-2.06-.94-.94-2.06-.94 2.06-2.06.94z\"/><path d=\"M17.41 7.96l-1.37-1.37c-.4-.4-.92-.59-1.43-.59-.52 0-1.04.2-1.43.59L10.3 9.45l-7.72 7.72c-.78.78-.78 2.05 0 2.83L4 21.41c.39.39.9.59 1.41.59.51 0 1.02-.2 1.41-.59l7.78-7.78 2.81-2.81c.8-.78.8-2.07 0-2.86zM5.41 20L4 18.59l7.72-7.72 1.47 1.35L5.41 20z\"/>\n",
              "  </svg>\n",
              "      </button>\n",
              "      \n",
              "  <style>\n",
              "    .colab-df-container {\n",
              "      display:flex;\n",
              "      flex-wrap:wrap;\n",
              "      gap: 12px;\n",
              "    }\n",
              "\n",
              "    .colab-df-convert {\n",
              "      background-color: #E8F0FE;\n",
              "      border: none;\n",
              "      border-radius: 50%;\n",
              "      cursor: pointer;\n",
              "      display: none;\n",
              "      fill: #1967D2;\n",
              "      height: 32px;\n",
              "      padding: 0 0 0 0;\n",
              "      width: 32px;\n",
              "    }\n",
              "\n",
              "    .colab-df-convert:hover {\n",
              "      background-color: #E2EBFA;\n",
              "      box-shadow: 0px 1px 2px rgba(60, 64, 67, 0.3), 0px 1px 3px 1px rgba(60, 64, 67, 0.15);\n",
              "      fill: #174EA6;\n",
              "    }\n",
              "\n",
              "    [theme=dark] .colab-df-convert {\n",
              "      background-color: #3B4455;\n",
              "      fill: #D2E3FC;\n",
              "    }\n",
              "\n",
              "    [theme=dark] .colab-df-convert:hover {\n",
              "      background-color: #434B5C;\n",
              "      box-shadow: 0px 1px 3px 1px rgba(0, 0, 0, 0.15);\n",
              "      filter: drop-shadow(0px 1px 2px rgba(0, 0, 0, 0.3));\n",
              "      fill: #FFFFFF;\n",
              "    }\n",
              "  </style>\n",
              "\n",
              "      <script>\n",
              "        const buttonEl =\n",
              "          document.querySelector('#df-4273098d-d941-4ab6-8d4c-04f0759a58d4 button.colab-df-convert');\n",
              "        buttonEl.style.display =\n",
              "          google.colab.kernel.accessAllowed ? 'block' : 'none';\n",
              "\n",
              "        async function convertToInteractive(key) {\n",
              "          const element = document.querySelector('#df-4273098d-d941-4ab6-8d4c-04f0759a58d4');\n",
              "          const dataTable =\n",
              "            await google.colab.kernel.invokeFunction('convertToInteractive',\n",
              "                                                     [key], {});\n",
              "          if (!dataTable) return;\n",
              "\n",
              "          const docLinkHtml = 'Like what you see? Visit the ' +\n",
              "            '<a target=\"_blank\" href=https://colab.research.google.com/notebooks/data_table.ipynb>data table notebook</a>'\n",
              "            + ' to learn more about interactive tables.';\n",
              "          element.innerHTML = '';\n",
              "          dataTable['output_type'] = 'display_data';\n",
              "          await google.colab.output.renderOutput(dataTable, element);\n",
              "          const docLink = document.createElement('div');\n",
              "          docLink.innerHTML = docLinkHtml;\n",
              "          element.appendChild(docLink);\n",
              "        }\n",
              "      </script>\n",
              "    </div>\n",
              "  </div>\n",
              "  "
            ]
          },
          "metadata": {},
          "execution_count": 98
        }
      ]
    },
    {
      "cell_type": "markdown",
      "source": [
        "This is better, but I'm going to combine the two houses to simplify things. I'll also remove columns we aren't going to use.\n",
        "\n",
        "I'm starting by replacing all the dashes '-' with zeros. However, this isn't ideal, since in some cases the houses have no seats because no parliament exists. I also needed to turn strings (text data) into numbers in order to do addition."
      ],
      "metadata": {
        "id": "OvG4wdqB1-uP"
      }
    },
    {
      "cell_type": "code",
      "source": [
        "women_df.drop(['Rank','Last Election', 'Lower House % Women', 'Last Upper House Election', 'Upper House % Women'], axis=1, inplace = True)\n"
      ],
      "metadata": {
        "id": "ZCFx9bIO3Ydk"
      },
      "execution_count": 99,
      "outputs": []
    },
    {
      "cell_type": "code",
      "source": [
        "women_df['Lower House Seats'] = women_df['Lower House Seats'].apply(lambda x: re.sub('-', '0', x))\n",
        "women_df['Upper House Seats'] = women_df['Upper House Seats'].apply(lambda x: re.sub('-', '0', x))\n",
        "women_df['Women in Lower House Seats'] = women_df['Women in Lower House Seats'].apply(lambda x: re.sub('-', '0', x))\n",
        "women_df['Women in Upper House Seats'] = women_df['Women in Upper House Seats'].apply(lambda x: re.sub('-', '0', x))\n",
        "\n",
        "women_df['Total Seats'] = women_df['Lower House Seats'].astype(int) + women_df['Upper House Seats'].astype(int)\n",
        "women_df['Total Women'] = women_df['Women in Lower House Seats'].astype(int) + women_df['Women in Upper House Seats'].astype(int)\n",
        "\n",
        "women_df['% Women'] = women_df['Total Women'] / women_df['Total Seats'] * 100"
      ],
      "metadata": {
        "id": "J-aH0jZj1-f4"
      },
      "execution_count": 100,
      "outputs": []
    },
    {
      "cell_type": "code",
      "source": [
        "women_df.drop(['Lower House Seats', 'Upper House Seats', 'Women in Lower House Seats', 'Women in Upper House Seats'], axis = 1, inplace=True)"
      ],
      "metadata": {
        "id": "3Infv8fq4XKY"
      },
      "execution_count": 101,
      "outputs": []
    },
    {
      "cell_type": "markdown",
      "source": [
        "Now we have a nice manageable dataframe! Let's see what the data looks like!"
      ],
      "metadata": {
        "id": "WINuGJEb4nR-"
      }
    },
    {
      "cell_type": "code",
      "source": [
        "women_df.head()"
      ],
      "metadata": {
        "colab": {
          "base_uri": "https://localhost:8080/",
          "height": 206
        },
        "id": "SMbuVUoi3FEg",
        "outputId": "47197a75-3048-40c8-933a-ef06c052407a"
      },
      "execution_count": 102,
      "outputs": [
        {
          "output_type": "execute_result",
          "data": {
            "text/plain": [
              "       Country  Total Seats  Total Women    % Women\n",
              "0       Rwanda          106           58  54.716981\n",
              "1         Cuba          586          313  53.412969\n",
              "2    Nicaragua           91           47  51.648352\n",
              "3       Mexico          627          314  50.079745\n",
              "4  New Zealand          120           60  50.000000"
            ],
            "text/html": [
              "\n",
              "  <div id=\"df-dc05f0bd-d691-496f-872c-d24d9d9e05bb\">\n",
              "    <div class=\"colab-df-container\">\n",
              "      <div>\n",
              "<style scoped>\n",
              "    .dataframe tbody tr th:only-of-type {\n",
              "        vertical-align: middle;\n",
              "    }\n",
              "\n",
              "    .dataframe tbody tr th {\n",
              "        vertical-align: top;\n",
              "    }\n",
              "\n",
              "    .dataframe thead th {\n",
              "        text-align: right;\n",
              "    }\n",
              "</style>\n",
              "<table border=\"1\" class=\"dataframe\">\n",
              "  <thead>\n",
              "    <tr style=\"text-align: right;\">\n",
              "      <th></th>\n",
              "      <th>Country</th>\n",
              "      <th>Total Seats</th>\n",
              "      <th>Total Women</th>\n",
              "      <th>% Women</th>\n",
              "    </tr>\n",
              "  </thead>\n",
              "  <tbody>\n",
              "    <tr>\n",
              "      <th>0</th>\n",
              "      <td>Rwanda</td>\n",
              "      <td>106</td>\n",
              "      <td>58</td>\n",
              "      <td>54.716981</td>\n",
              "    </tr>\n",
              "    <tr>\n",
              "      <th>1</th>\n",
              "      <td>Cuba</td>\n",
              "      <td>586</td>\n",
              "      <td>313</td>\n",
              "      <td>53.412969</td>\n",
              "    </tr>\n",
              "    <tr>\n",
              "      <th>2</th>\n",
              "      <td>Nicaragua</td>\n",
              "      <td>91</td>\n",
              "      <td>47</td>\n",
              "      <td>51.648352</td>\n",
              "    </tr>\n",
              "    <tr>\n",
              "      <th>3</th>\n",
              "      <td>Mexico</td>\n",
              "      <td>627</td>\n",
              "      <td>314</td>\n",
              "      <td>50.079745</td>\n",
              "    </tr>\n",
              "    <tr>\n",
              "      <th>4</th>\n",
              "      <td>New Zealand</td>\n",
              "      <td>120</td>\n",
              "      <td>60</td>\n",
              "      <td>50.000000</td>\n",
              "    </tr>\n",
              "  </tbody>\n",
              "</table>\n",
              "</div>\n",
              "      <button class=\"colab-df-convert\" onclick=\"convertToInteractive('df-dc05f0bd-d691-496f-872c-d24d9d9e05bb')\"\n",
              "              title=\"Convert this dataframe to an interactive table.\"\n",
              "              style=\"display:none;\">\n",
              "        \n",
              "  <svg xmlns=\"http://www.w3.org/2000/svg\" height=\"24px\"viewBox=\"0 0 24 24\"\n",
              "       width=\"24px\">\n",
              "    <path d=\"M0 0h24v24H0V0z\" fill=\"none\"/>\n",
              "    <path d=\"M18.56 5.44l.94 2.06.94-2.06 2.06-.94-2.06-.94-.94-2.06-.94 2.06-2.06.94zm-11 1L8.5 8.5l.94-2.06 2.06-.94-2.06-.94L8.5 2.5l-.94 2.06-2.06.94zm10 10l.94 2.06.94-2.06 2.06-.94-2.06-.94-.94-2.06-.94 2.06-2.06.94z\"/><path d=\"M17.41 7.96l-1.37-1.37c-.4-.4-.92-.59-1.43-.59-.52 0-1.04.2-1.43.59L10.3 9.45l-7.72 7.72c-.78.78-.78 2.05 0 2.83L4 21.41c.39.39.9.59 1.41.59.51 0 1.02-.2 1.41-.59l7.78-7.78 2.81-2.81c.8-.78.8-2.07 0-2.86zM5.41 20L4 18.59l7.72-7.72 1.47 1.35L5.41 20z\"/>\n",
              "  </svg>\n",
              "      </button>\n",
              "      \n",
              "  <style>\n",
              "    .colab-df-container {\n",
              "      display:flex;\n",
              "      flex-wrap:wrap;\n",
              "      gap: 12px;\n",
              "    }\n",
              "\n",
              "    .colab-df-convert {\n",
              "      background-color: #E8F0FE;\n",
              "      border: none;\n",
              "      border-radius: 50%;\n",
              "      cursor: pointer;\n",
              "      display: none;\n",
              "      fill: #1967D2;\n",
              "      height: 32px;\n",
              "      padding: 0 0 0 0;\n",
              "      width: 32px;\n",
              "    }\n",
              "\n",
              "    .colab-df-convert:hover {\n",
              "      background-color: #E2EBFA;\n",
              "      box-shadow: 0px 1px 2px rgba(60, 64, 67, 0.3), 0px 1px 3px 1px rgba(60, 64, 67, 0.15);\n",
              "      fill: #174EA6;\n",
              "    }\n",
              "\n",
              "    [theme=dark] .colab-df-convert {\n",
              "      background-color: #3B4455;\n",
              "      fill: #D2E3FC;\n",
              "    }\n",
              "\n",
              "    [theme=dark] .colab-df-convert:hover {\n",
              "      background-color: #434B5C;\n",
              "      box-shadow: 0px 1px 3px 1px rgba(0, 0, 0, 0.15);\n",
              "      filter: drop-shadow(0px 1px 2px rgba(0, 0, 0, 0.3));\n",
              "      fill: #FFFFFF;\n",
              "    }\n",
              "  </style>\n",
              "\n",
              "      <script>\n",
              "        const buttonEl =\n",
              "          document.querySelector('#df-dc05f0bd-d691-496f-872c-d24d9d9e05bb button.colab-df-convert');\n",
              "        buttonEl.style.display =\n",
              "          google.colab.kernel.accessAllowed ? 'block' : 'none';\n",
              "\n",
              "        async function convertToInteractive(key) {\n",
              "          const element = document.querySelector('#df-dc05f0bd-d691-496f-872c-d24d9d9e05bb');\n",
              "          const dataTable =\n",
              "            await google.colab.kernel.invokeFunction('convertToInteractive',\n",
              "                                                     [key], {});\n",
              "          if (!dataTable) return;\n",
              "\n",
              "          const docLinkHtml = 'Like what you see? Visit the ' +\n",
              "            '<a target=\"_blank\" href=https://colab.research.google.com/notebooks/data_table.ipynb>data table notebook</a>'\n",
              "            + ' to learn more about interactive tables.';\n",
              "          element.innerHTML = '';\n",
              "          dataTable['output_type'] = 'display_data';\n",
              "          await google.colab.output.renderOutput(dataTable, element);\n",
              "          const docLink = document.createElement('div');\n",
              "          docLink.innerHTML = docLinkHtml;\n",
              "          element.appendChild(docLink);\n",
              "        }\n",
              "      </script>\n",
              "    </div>\n",
              "  </div>\n",
              "  "
            ]
          },
          "metadata": {},
          "execution_count": 102
        }
      ]
    },
    {
      "cell_type": "code",
      "source": [
        "print(f'Total Number of Countries: {len(women_df)}\\n')\n",
        "\n",
        "print(f'Min % Women: {np.min(women_df[\"% Women\"]):.1f}')\n",
        "print(f'Mean % Women: {np.mean(women_df[\"% Women\"]):.1f}')\n",
        "print(f'Max % Women: {np.max(women_df[\"% Women\"]):.1f}')"
      ],
      "metadata": {
        "colab": {
          "base_uri": "https://localhost:8080/"
        },
        "id": "LqK6IiGF8jza",
        "outputId": "95c1bc02-532d-43b4-ab16-00f5e1378174"
      },
      "execution_count": 105,
      "outputs": [
        {
          "output_type": "stream",
          "name": "stdout",
          "text": [
            "Total Number of Countries: 193\n",
            "\n",
            "Min % Women: 0.3\n",
            "Mean % Women: 25.5\n",
            "Max % Women: 54.7\n"
          ]
        }
      ]
    },
    {
      "cell_type": "code",
      "source": [
        "plt.boxplot(women_df['% Women'].dropna())\n",
        "plt.title('Global Distribution of the Percentage of Women in Parliament')\n",
        "plt.xticks([])\n",
        "plt.gca().yaxis.set_major_formatter(mtick.PercentFormatter())\n",
        "plt.show()"
      ],
      "metadata": {
        "colab": {
          "base_uri": "https://localhost:8080/",
          "height": 428
        },
        "id": "XPIgvdaa-GfO",
        "outputId": "777d930c-11c1-4c1b-8cdd-82c1344bea50"
      },
      "execution_count": 120,
      "outputs": [
        {
          "output_type": "display_data",
          "data": {
            "text/plain": [
              "<Figure size 640x480 with 1 Axes>"
            ],
            "image/png": "[encoded data removed]"
          },
          "metadata": {}
        }
      ]
    },
    {
      "cell_type": "code",
      "source": [
        "plt.hist(women_df['% Women'],bins=25)\n",
        "plt.title('Global Distribution of the Percentage of Women in Parliament')\n",
        "plt.xlabel('% Women')\n",
        "plt.ylabel('Number of Countries')\n",
        "plt.gca().xaxis.set_major_formatter(mtick.PercentFormatter())\n",
        "plt.show()"
      ],
      "metadata": {
        "colab": {
          "base_uri": "https://localhost:8080/",
          "height": 472
        },
        "id": "E6_yJ4KS7d_j",
        "outputId": "989185e9-8481-4cb0-b254-9e281904bd69"
      },
      "execution_count": 109,
      "outputs": [
        {
          "output_type": "display_data",
          "data": {
            "text/plain": [
              "<Figure size 640x480 with 1 Axes>"
            ],
            "image/png": "[encoded data removed]"
          },
          "metadata": {}
        }
      ]
    },
    {
      "cell_type": "markdown",
      "source": [
        "We need to do the same thing for the internet access data, which is available from the [World Bank](https://data.worldbank.org/indicator/IT.NET.USER.ZS?view=map&year=2021). I won't spend as much time describing this, since we've done a lot of it already."
      ],
      "metadata": {
        "id": "FHOuZLyk4rnx"
      }
    },
    {
      "cell_type": "code",
      "source": [
        "internet_csv = 'API_IT.NET.USER.ZS_DS2_en_csv_v2_5607717.csv'\n",
        "if not path.exists(internet_csv):\n",
        "    internet_csv = 'https://raw.githubusercontent.com/am-bean/SummerDoctoralProgram/main/API_IT.NET.USER.ZS_DS2_en_csv_v2_5607717.csv'\n",
        "\n",
        "internet_df = pd.read_csv(internet_csv,skiprows=4)\n",
        "\n"
      ],
      "metadata": {
        "id": "TYtao1bq5AWv"
      },
      "execution_count": 123,
      "outputs": []
    },
    {
      "cell_type": "markdown",
      "source": [
        "Another dangerous conceptual choice. The data is not all up to date through the same year. To simplify things, I am assuming that the most recent year for each line is the value for the present. It might be better to try to pair each year's data with parliamentary data from the same year."
      ],
      "metadata": {
        "id": "OU4-Vj3D6Mo-"
      }
    },
    {
      "cell_type": "code",
      "source": [
        "internet_df['% Internet'] = internet_df.max(axis=1,numeric_only=True)"
      ],
      "metadata": {
        "id": "_nKaNAKW5kGE"
      },
      "execution_count": 124,
      "outputs": []
    },
    {
      "cell_type": "code",
      "source": [
        "internet_df = internet_df[['Country Name','% Internet']]\n",
        "internet_df.head()"
      ],
      "metadata": {
        "colab": {
          "base_uri": "https://localhost:8080/",
          "height": 206
        },
        "id": "svs0zfY95cah",
        "outputId": "b08861f1-5acf-4b40-abc1-874bcd7ecf34"
      },
      "execution_count": 125,
      "outputs": [
        {
          "output_type": "execute_result",
          "data": {
            "text/plain": [
              "                  Country Name  % Internet\n",
              "0                        Aruba   97.170000\n",
              "1  Africa Eastern and Southern   27.660654\n",
              "2                  Afghanistan   18.400000\n",
              "3   Africa Western and Central   46.990497\n",
              "4                       Angola   32.602302"
            ],
            "text/html": [
              "\n",
              "  <div id=\"df-f42231aa-764d-4a18-8e70-36771683d149\">\n",
              "    <div class=\"colab-df-container\">\n",
              "      <div>\n",
              "<style scoped>\n",
              "    .dataframe tbody tr th:only-of-type {\n",
              "        vertical-align: middle;\n",
              "    }\n",
              "\n",
              "    .dataframe tbody tr th {\n",
              "        vertical-align: top;\n",
              "    }\n",
              "\n",
              "    .dataframe thead th {\n",
              "        text-align: right;\n",
              "    }\n",
              "</style>\n",
              "<table border=\"1\" class=\"dataframe\">\n",
              "  <thead>\n",
              "    <tr style=\"text-align: right;\">\n",
              "      <th></th>\n",
              "      <th>Country Name</th>\n",
              "      <th>% Internet</th>\n",
              "    </tr>\n",
              "  </thead>\n",
              "  <tbody>\n",
              "    <tr>\n",
              "      <th>0</th>\n",
              "      <td>Aruba</td>\n",
              "      <td>97.170000</td>\n",
              "    </tr>\n",
              "    <tr>\n",
              "      <th>1</th>\n",
              "      <td>Africa Eastern and Southern</td>\n",
              "      <td>27.660654</td>\n",
              "    </tr>\n",
              "    <tr>\n",
              "      <th>2</th>\n",
              "      <td>Afghanistan</td>\n",
              "      <td>18.400000</td>\n",
              "    </tr>\n",
              "    <tr>\n",
              "      <th>3</th>\n",
              "      <td>Africa Western and Central</td>\n",
              "      <td>46.990497</td>\n",
              "    </tr>\n",
              "    <tr>\n",
              "      <th>4</th>\n",
              "      <td>Angola</td>\n",
              "      <td>32.602302</td>\n",
              "    </tr>\n",
              "  </tbody>\n",
              "</table>\n",
              "</div>\n",
              "      <button class=\"colab-df-convert\" onclick=\"convertToInteractive('df-f42231aa-764d-4a18-8e70-36771683d149')\"\n",
              "              title=\"Convert this dataframe to an interactive table.\"\n",
              "              style=\"display:none;\">\n",
              "        \n",
              "  <svg xmlns=\"http://www.w3.org/2000/svg\" height=\"24px\"viewBox=\"0 0 24 24\"\n",
              "       width=\"24px\">\n",
              "    <path d=\"M0 0h24v24H0V0z\" fill=\"none\"/>\n",
              "    <path d=\"M18.56 5.44l.94 2.06.94-2.06 2.06-.94-2.06-.94-.94-2.06-.94 2.06-2.06.94zm-11 1L8.5 8.5l.94-2.06 2.06-.94-2.06-.94L8.5 2.5l-.94 2.06-2.06.94zm10 10l.94 2.06.94-2.06 2.06-.94-2.06-.94-.94-2.06-.94 2.06-2.06.94z\"/><path d=\"M17.41 7.96l-1.37-1.37c-.4-.4-.92-.59-1.43-.59-.52 0-1.04.2-1.43.59L10.3 9.45l-7.72 7.72c-.78.78-.78 2.05 0 2.83L4 21.41c.39.39.9.59 1.41.59.51 0 1.02-.2 1.41-.59l7.78-7.78 2.81-2.81c.8-.78.8-2.07 0-2.86zM5.41 20L4 18.59l7.72-7.72 1.47 1.35L5.41 20z\"/>\n",
              "  </svg>\n",
              "      </button>\n",
              "      \n",
              "  <style>\n",
              "    .colab-df-container {\n",
              "      display:flex;\n",
              "      flex-wrap:wrap;\n",
              "      gap: 12px;\n",
              "    }\n",
              "\n",
              "    .colab-df-convert {\n",
              "      background-color: #E8F0FE;\n",
              "      border: none;\n",
              "      border-radius: 50%;\n",
              "      cursor: pointer;\n",
              "      display: none;\n",
              "      fill: #1967D2;\n",
              "      height: 32px;\n",
              "      padding: 0 0 0 0;\n",
              "      width: 32px;\n",
              "    }\n",
              "\n",
              "    .colab-df-convert:hover {\n",
              "      background-color: #E2EBFA;\n",
              "      box-shadow: 0px 1px 2px rgba(60, 64, 67, 0.3), 0px 1px 3px 1px rgba(60, 64, 67, 0.15);\n",
              "      fill: #174EA6;\n",
              "    }\n",
              "\n",
              "    [theme=dark] .colab-df-convert {\n",
              "      background-color: #3B4455;\n",
              "      fill: #D2E3FC;\n",
              "    }\n",
              "\n",
              "    [theme=dark] .colab-df-convert:hover {\n",
              "      background-color: #434B5C;\n",
              "      box-shadow: 0px 1px 3px 1px rgba(0, 0, 0, 0.15);\n",
              "      filter: drop-shadow(0px 1px 2px rgba(0, 0, 0, 0.3));\n",
              "      fill: #FFFFFF;\n",
              "    }\n",
              "  </style>\n",
              "\n",
              "      <script>\n",
              "        const buttonEl =\n",
              "          document.querySelector('#df-f42231aa-764d-4a18-8e70-36771683d149 button.colab-df-convert');\n",
              "        buttonEl.style.display =\n",
              "          google.colab.kernel.accessAllowed ? 'block' : 'none';\n",
              "\n",
              "        async function convertToInteractive(key) {\n",
              "          const element = document.querySelector('#df-f42231aa-764d-4a18-8e70-36771683d149');\n",
              "          const dataTable =\n",
              "            await google.colab.kernel.invokeFunction('convertToInteractive',\n",
              "                                                     [key], {});\n",
              "          if (!dataTable) return;\n",
              "\n",
              "          const docLinkHtml = 'Like what you see? Visit the ' +\n",
              "            '<a target=\"_blank\" href=https://colab.research.google.com/notebooks/data_table.ipynb>data table notebook</a>'\n",
              "            + ' to learn more about interactive tables.';\n",
              "          element.innerHTML = '';\n",
              "          dataTable['output_type'] = 'display_data';\n",
              "          await google.colab.output.renderOutput(dataTable, element);\n",
              "          const docLink = document.createElement('div');\n",
              "          docLink.innerHTML = docLinkHtml;\n",
              "          element.appendChild(docLink);\n",
              "        }\n",
              "      </script>\n",
              "    </div>\n",
              "  </div>\n",
              "  "
            ]
          },
          "metadata": {},
          "execution_count": 125
        }
      ]
    },
    {
      "cell_type": "markdown",
      "source": [
        "Let's see what the internet data looks like:"
      ],
      "metadata": {
        "id": "Kv85Zqa1-cGY"
      }
    },
    {
      "cell_type": "code",
      "source": [
        "print(f'Total Number of Countries: {len(internet_df)}\\n')\n",
        "\n",
        "print(f'Min % Internet: {np.min(internet_df[\"% Internet\"]):.1f}')\n",
        "print(f'Mean % Internet: {np.mean(internet_df[\"% Internet\"]):.1f}')\n",
        "print(f'Max % Internet: {np.max(internet_df[\"% Internet\"]):.1f}')"
      ],
      "metadata": {
        "colab": {
          "base_uri": "https://localhost:8080/"
        },
        "id": "UyJq-tkW-b2e",
        "outputId": "857470b7-9932-4f97-ab57-64019b7fc903"
      },
      "execution_count": 126,
      "outputs": [
        {
          "output_type": "stream",
          "name": "stdout",
          "text": [
            "Total Number of Countries: 266\n",
            "\n",
            "Min % Internet: 0.0\n",
            "Mean % Internet: 65.6\n",
            "Max % Internet: 100.0\n"
          ]
        }
      ]
    },
    {
      "cell_type": "code",
      "source": [
        "plt.boxplot(internet_df['% Internet'].dropna())\n",
        "plt.title('Global Distribution of the Percentage of People with Internet Access')\n",
        "plt.xticks([])\n",
        "plt.gca().yaxis.set_major_formatter(mtick.PercentFormatter())\n",
        "plt.show()"
      ],
      "metadata": {
        "colab": {
          "base_uri": "https://localhost:8080/",
          "height": 428
        },
        "id": "1kfikcEC-t4C",
        "outputId": "660f4964-8405-49e3-ee33-8e7c335e6a5e"
      },
      "execution_count": 127,
      "outputs": [
        {
          "output_type": "display_data",
          "data": {
            "text/plain": [
              "<Figure size 640x480 with 1 Axes>"
            ],
            "image/png": "[encoded data removed]"
          },
          "metadata": {}
        }
      ]
    },
    {
      "cell_type": "code",
      "source": [
        "plt.hist(internet_df['% Internet'],bins=25)\n",
        "plt.title('Global Distribution of the Percentage of People with Internet Access')\n",
        "plt.xlabel('% Internet')\n",
        "plt.ylabel('Number of Countries')\n",
        "plt.gca().xaxis.set_major_formatter(mtick.PercentFormatter())\n",
        "plt.show()"
      ],
      "metadata": {
        "colab": {
          "base_uri": "https://localhost:8080/",
          "height": 472
        },
        "id": "hFfn1wYz-1tX",
        "outputId": "b6f5bdb9-a0b9-4686-999d-e860ab1b1afc"
      },
      "execution_count": 128,
      "outputs": [
        {
          "output_type": "display_data",
          "data": {
            "text/plain": [
              "<Figure size 640x480 with 1 Axes>"
            ],
            "image/png": "[encoded data removed]"
          },
          "metadata": {}
        }
      ]
    },
    {
      "cell_type": "markdown",
      "source": [
        "## Data Analysis"
      ],
      "metadata": {
        "id": "hRlZq40y-98r"
      }
    },
    {
      "cell_type": "markdown",
      "source": [
        "The last step is to combine the two dataframes into a larger dataframe based on the shared countries. This is a BIG pain. The country names are not consistent between the two sources, and I had to match them by hand. Rather than write code, I did this in Excel because it was faster. You just get to load the final combined version."
      ],
      "metadata": {
        "id": "NPnJ-C7t6tFm"
      }
    },
    {
      "cell_type": "code",
      "source": [
        "data_csv = 'regression_example.csv'\n",
        "if not path.exists(data_csv):\n",
        "    data_csv = 'https://raw.githubusercontent.com/am-bean/SummerDoctoralProgram/main/regression_example.csv'\n",
        "\n",
        "df = pd.read_csv(data_csv,skiprows=1)\n",
        "\n",
        "df = df.iloc[:-7,:]\n",
        "df['%Women'] = df['%Women'].astype(float).copy()\n",
        "df['%Internet'] = df['%Internet'].astype(float).copy()"
      ],
      "metadata": {
        "id": "SIoeLejGyMsF"
      },
      "execution_count": 130,
      "outputs": []
    },
    {
      "cell_type": "code",
      "source": [
        "df.head()"
      ],
      "metadata": {
        "colab": {
          "base_uri": "https://localhost:8080/",
          "height": 206
        },
        "id": "-fPfuq5TzNu6",
        "outputId": "3935aa8f-2012-41c3-cf7b-b95adb607e34"
      },
      "execution_count": 131,
      "outputs": [
        {
          "output_type": "execute_result",
          "data": {
            "text/plain": [
              "       Country  %Women  %Internet\n",
              "0       Rwanda    61.3       30.5\n",
              "1         Cuba    53.4       71.1\n",
              "2    Nicaragua    51.7       57.1\n",
              "3       Mexico    50.0       75.6\n",
              "4  New Zealand    50.0       95.9"
            ],
            "text/html": [
              "\n",
              "  <div id=\"df-7cf78e22-b14f-4a14-97b3-b9ba43042ff6\">\n",
              "    <div class=\"colab-df-container\">\n",
              "      <div>\n",
              "<style scoped>\n",
              "    .dataframe tbody tr th:only-of-type {\n",
              "        vertical-align: middle;\n",
              "    }\n",
              "\n",
              "    .dataframe tbody tr th {\n",
              "        vertical-align: top;\n",
              "    }\n",
              "\n",
              "    .dataframe thead th {\n",
              "        text-align: right;\n",
              "    }\n",
              "</style>\n",
              "<table border=\"1\" class=\"dataframe\">\n",
              "  <thead>\n",
              "    <tr style=\"text-align: right;\">\n",
              "      <th></th>\n",
              "      <th>Country</th>\n",
              "      <th>%Women</th>\n",
              "      <th>%Internet</th>\n",
              "    </tr>\n",
              "  </thead>\n",
              "  <tbody>\n",
              "    <tr>\n",
              "      <th>0</th>\n",
              "      <td>Rwanda</td>\n",
              "      <td>61.3</td>\n",
              "      <td>30.5</td>\n",
              "    </tr>\n",
              "    <tr>\n",
              "      <th>1</th>\n",
              "      <td>Cuba</td>\n",
              "      <td>53.4</td>\n",
              "      <td>71.1</td>\n",
              "    </tr>\n",
              "    <tr>\n",
              "      <th>2</th>\n",
              "      <td>Nicaragua</td>\n",
              "      <td>51.7</td>\n",
              "      <td>57.1</td>\n",
              "    </tr>\n",
              "    <tr>\n",
              "      <th>3</th>\n",
              "      <td>Mexico</td>\n",
              "      <td>50.0</td>\n",
              "      <td>75.6</td>\n",
              "    </tr>\n",
              "    <tr>\n",
              "      <th>4</th>\n",
              "      <td>New Zealand</td>\n",
              "      <td>50.0</td>\n",
              "      <td>95.9</td>\n",
              "    </tr>\n",
              "  </tbody>\n",
              "</table>\n",
              "</div>\n",
              "      <button class=\"colab-df-convert\" onclick=\"convertToInteractive('df-7cf78e22-b14f-4a14-97b3-b9ba43042ff6')\"\n",
              "              title=\"Convert this dataframe to an interactive table.\"\n",
              "              style=\"display:none;\">\n",
              "        \n",
              "  <svg xmlns=\"http://www.w3.org/2000/svg\" height=\"24px\"viewBox=\"0 0 24 24\"\n",
              "       width=\"24px\">\n",
              "    <path d=\"M0 0h24v24H0V0z\" fill=\"none\"/>\n",
              "    <path d=\"M18.56 5.44l.94 2.06.94-2.06 2.06-.94-2.06-.94-.94-2.06-.94 2.06-2.06.94zm-11 1L8.5 8.5l.94-2.06 2.06-.94-2.06-.94L8.5 2.5l-.94 2.06-2.06.94zm10 10l.94 2.06.94-2.06 2.06-.94-2.06-.94-.94-2.06-.94 2.06-2.06.94z\"/><path d=\"M17.41 7.96l-1.37-1.37c-.4-.4-.92-.59-1.43-.59-.52 0-1.04.2-1.43.59L10.3 9.45l-7.72 7.72c-.78.78-.78 2.05 0 2.83L4 21.41c.39.39.9.59 1.41.59.51 0 1.02-.2 1.41-.59l7.78-7.78 2.81-2.81c.8-.78.8-2.07 0-2.86zM5.41 20L4 18.59l7.72-7.72 1.47 1.35L5.41 20z\"/>\n",
              "  </svg>\n",
              "      </button>\n",
              "      \n",
              "  <style>\n",
              "    .colab-df-container {\n",
              "      display:flex;\n",
              "      flex-wrap:wrap;\n",
              "      gap: 12px;\n",
              "    }\n",
              "\n",
              "    .colab-df-convert {\n",
              "      background-color: #E8F0FE;\n",
              "      border: none;\n",
              "      border-radius: 50%;\n",
              "      cursor: pointer;\n",
              "      display: none;\n",
              "      fill: #1967D2;\n",
              "      height: 32px;\n",
              "      padding: 0 0 0 0;\n",
              "      width: 32px;\n",
              "    }\n",
              "\n",
              "    .colab-df-convert:hover {\n",
              "      background-color: #E2EBFA;\n",
              "      box-shadow: 0px 1px 2px rgba(60, 64, 67, 0.3), 0px 1px 3px 1px rgba(60, 64, 67, 0.15);\n",
              "      fill: #174EA6;\n",
              "    }\n",
              "\n",
              "    [theme=dark] .colab-df-convert {\n",
              "      background-color: #3B4455;\n",
              "      fill: #D2E3FC;\n",
              "    }\n",
              "\n",
              "    [theme=dark] .colab-df-convert:hover {\n",
              "      background-color: #434B5C;\n",
              "      box-shadow: 0px 1px 3px 1px rgba(0, 0, 0, 0.15);\n",
              "      filter: drop-shadow(0px 1px 2px rgba(0, 0, 0, 0.3));\n",
              "      fill: #FFFFFF;\n",
              "    }\n",
              "  </style>\n",
              "\n",
              "      <script>\n",
              "        const buttonEl =\n",
              "          document.querySelector('#df-7cf78e22-b14f-4a14-97b3-b9ba43042ff6 button.colab-df-convert');\n",
              "        buttonEl.style.display =\n",
              "          google.colab.kernel.accessAllowed ? 'block' : 'none';\n",
              "\n",
              "        async function convertToInteractive(key) {\n",
              "          const element = document.querySelector('#df-7cf78e22-b14f-4a14-97b3-b9ba43042ff6');\n",
              "          const dataTable =\n",
              "            await google.colab.kernel.invokeFunction('convertToInteractive',\n",
              "                                                     [key], {});\n",
              "          if (!dataTable) return;\n",
              "\n",
              "          const docLinkHtml = 'Like what you see? Visit the ' +\n",
              "            '<a target=\"_blank\" href=https://colab.research.google.com/notebooks/data_table.ipynb>data table notebook</a>'\n",
              "            + ' to learn more about interactive tables.';\n",
              "          element.innerHTML = '';\n",
              "          dataTable['output_type'] = 'display_data';\n",
              "          await google.colab.output.renderOutput(dataTable, element);\n",
              "          const docLink = document.createElement('div');\n",
              "          docLink.innerHTML = docLinkHtml;\n",
              "          element.appendChild(docLink);\n",
              "        }\n",
              "      </script>\n",
              "    </div>\n",
              "  </div>\n",
              "  "
            ]
          },
          "metadata": {},
          "execution_count": 131
        }
      ]
    },
    {
      "cell_type": "markdown",
      "source": [
        "We can make a scatter plot to see if there is a visual relationship. Doesn't seem too promising. Is this a surprise?"
      ],
      "metadata": {
        "id": "rJO1J-3L_JDw"
      }
    },
    {
      "cell_type": "code",
      "source": [
        "plt.figure()\n",
        "plt.scatter('%Internet', '%Women', data=df)\n",
        "plt.xlabel(\"%Internet\")\n",
        "plt.ylabel(\"%Women\")\n",
        "plt.show()"
      ],
      "metadata": {
        "colab": {
          "base_uri": "https://localhost:8080/",
          "height": 449
        },
        "id": "GarBBXfdzjs3",
        "outputId": "1e83d2af-25c7-4afa-b00d-895849bc7230"
      },
      "execution_count": 132,
      "outputs": [
        {
          "output_type": "display_data",
          "data": {
            "text/plain": [
              "<Figure size 640x480 with 1 Axes>"
            ],
            "image/png": "[encoded data removed]"
          },
          "metadata": {}
        }
      ]
    },
    {
      "cell_type": "markdown",
      "source": [
        "Finally, we use statsmodels to fit an OLS regression model. The summary prints out all the relevant details."
      ],
      "metadata": {
        "id": "QCzCb_gz_R1d"
      }
    },
    {
      "cell_type": "code",
      "source": [
        "my_lm = sm.OLS(df['%Women'],sm.add_constant(df['%Internet'])).fit()\n",
        "print(my_lm.summary())"
      ],
      "metadata": {
        "colab": {
          "base_uri": "https://localhost:8080/"
        },
        "id": "GxqotMov2I9e",
        "outputId": "90395d5d-793f-4aab-fd2b-287caaa67a80"
      },
      "execution_count": 133,
      "outputs": [
        {
          "output_type": "stream",
          "name": "stdout",
          "text": [
            "                            OLS Regression Results                            \n",
            "==============================================================================\n",
            "Dep. Variable:                 %Women   R-squared:                       0.033\n",
            "Model:                            OLS   Adj. R-squared:                  0.028\n",
            "Method:                 Least Squares   F-statistic:                     6.292\n",
            "Date:                Thu, 06 Jul 2023   Prob (F-statistic):             0.0130\n",
            "Time:                        11:37:36   Log-Likelihood:                -734.51\n",
            "No. Observations:                 186   AIC:                             1473.\n",
            "Df Residuals:                     184   BIC:                             1479.\n",
            "Df Model:                           1                                         \n",
            "Covariance Type:            nonrobust                                         \n",
            "==============================================================================\n",
            "                 coef    std err          t      P>|t|      [0.025      0.975]\n",
            "------------------------------------------------------------------------------\n",
            "const         19.5782      2.462      7.951      0.000      14.720      24.436\n",
            "%Internet      0.0858      0.034      2.508      0.013       0.018       0.153\n",
            "==============================================================================\n",
            "Omnibus:                        3.771   Durbin-Watson:                   0.069\n",
            "Prob(Omnibus):                  0.152   Jarque-Bera (JB):                3.080\n",
            "Skew:                           0.205   Prob(JB):                        0.214\n",
            "Kurtosis:                       2.522   Cond. No.                         192.\n",
            "==============================================================================\n",
            "\n",
            "Notes:\n",
            "[1] Standard Errors assume that the covariance matrix of the errors is correctly specified.\n"
          ]
        }
      ]
    },
    {
      "cell_type": "markdown",
      "source": [
        "In order to add a line to the plot, I'm making some dummy data which fits the regression line, then I plot the line over the data."
      ],
      "metadata": {
        "id": "eiIbKO67_Xs-"
      }
    },
    {
      "cell_type": "code",
      "source": [
        "x = np.linspace(df['%Internet'].min(),df['%Internet'].max(),100)\n",
        "y = x * my_lm.params['%Internet'] + my_lm.params['const']"
      ],
      "metadata": {
        "id": "XVscXVLe3-hW"
      },
      "execution_count": 134,
      "outputs": []
    },
    {
      "cell_type": "code",
      "source": [
        "plt.figure()\n",
        "plt.scatter('%Internet', '%Women', data=df)\n",
        "plt.plot(x,y, color='red')\n",
        "plt.xlabel(\"% Internet Access\")\n",
        "plt.ylabel(\"% Women in Parliament\")\n",
        "plt.title('Women in Parliament vs Internet Accessibility')\n",
        "plt.show()"
      ],
      "metadata": {
        "colab": {
          "base_uri": "https://localhost:8080/",
          "height": 472
        },
        "id": "2O4pwqmm3mHm",
        "outputId": "b71ac31d-97fb-444a-ffe4-7dea25fc6995"
      },
      "execution_count": 135,
      "outputs": [
        {
          "output_type": "display_data",
          "data": {
            "text/plain": [
              "<Figure size 640x480 with 1 Axes>"
            ],
            "image/png": "[encoded data removed]"
          },
          "metadata": {}
        }
      ]
    },
    {
      "cell_type": "markdown",
      "source": [
        "What do you think? How would you interpret these results? What would you do next?"
      ],
      "metadata": {
        "id": "q9L3odfb_n7O"
      }
    }
  ]
}